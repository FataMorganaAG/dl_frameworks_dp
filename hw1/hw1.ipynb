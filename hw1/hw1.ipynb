{
 "cells": [
  {
   "cell_type": "markdown",
   "id": "4ddcc799",
   "metadata": {},
   "source": [
    "# Imports"
   ]
  },
  {
   "cell_type": "code",
   "execution_count": 467,
   "id": "e3870204",
   "metadata": {},
   "outputs": [],
   "source": [
    "import pandas as pd\n",
    "import numpy as np\n",
    "import optuna\n",
    "import json\n",
    "import pickle\n",
    "from lightgbm import LGBMClassifier\n",
    "from sklearn.metrics import roc_auc_score, f1_score, accuracy_score\n",
    "from sklearn.model_selection import train_test_split\n",
    "from sklearn.feature_extraction.text import TfidfVectorizer\n",
    "from sklearn.metrics import mean_squared_error"
   ]
  },
  {
   "cell_type": "markdown",
   "id": "949cd954",
   "metadata": {},
   "source": [
    "# Load data"
   ]
  },
  {
   "cell_type": "code",
   "execution_count": 468,
   "id": "e7f3bda3",
   "metadata": {},
   "outputs": [],
   "source": [
    "data = pd.read_csv('data/Ethos_Dataset_Binary.csv', on_bad_lines='skip', sep=';')"
   ]
  },
  {
   "cell_type": "code",
   "execution_count": 469,
   "id": "2cd7165a",
   "metadata": {},
   "outputs": [
    {
     "data": {
      "text/plain": [
       "(998, 2)"
      ]
     },
     "execution_count": 469,
     "metadata": {},
     "output_type": "execute_result"
    }
   ],
   "source": [
    "data.shape"
   ]
  },
  {
   "cell_type": "code",
   "execution_count": 470,
   "id": "ceb7142a",
   "metadata": {},
   "outputs": [
    {
     "data": {
      "text/html": [
       "<div>\n",
       "<style scoped>\n",
       "    .dataframe tbody tr th:only-of-type {\n",
       "        vertical-align: middle;\n",
       "    }\n",
       "\n",
       "    .dataframe tbody tr th {\n",
       "        vertical-align: top;\n",
       "    }\n",
       "\n",
       "    .dataframe thead th {\n",
       "        text-align: right;\n",
       "    }\n",
       "</style>\n",
       "<table border=\"1\" class=\"dataframe\">\n",
       "  <thead>\n",
       "    <tr style=\"text-align: right;\">\n",
       "      <th></th>\n",
       "      <th>comment</th>\n",
       "      <th>isHate</th>\n",
       "    </tr>\n",
       "  </thead>\n",
       "  <tbody>\n",
       "    <tr>\n",
       "      <th>0</th>\n",
       "      <td>comment you should know women sports are joke ...</td>\n",
       "      <td>1.0</td>\n",
       "    </tr>\n",
       "    <tr>\n",
       "      <th>1</th>\n",
       "      <td>comment you look like sloth with deeper down s...</td>\n",
       "      <td>1.0</td>\n",
       "    </tr>\n",
       "    <tr>\n",
       "      <th>2</th>\n",
       "      <td>comment you look like russian and speak like i...</td>\n",
       "      <td>1.0</td>\n",
       "    </tr>\n",
       "  </tbody>\n",
       "</table>\n",
       "</div>"
      ],
      "text/plain": [
       "                                             comment  isHate\n",
       "0  comment you should know women sports are joke ...     1.0\n",
       "1  comment you look like sloth with deeper down s...     1.0\n",
       "2  comment you look like russian and speak like i...     1.0"
      ]
     },
     "execution_count": 470,
     "metadata": {},
     "output_type": "execute_result"
    }
   ],
   "source": [
    "data.head(3)"
   ]
  },
  {
   "cell_type": "code",
   "execution_count": 471,
   "id": "41fb3f02",
   "metadata": {},
   "outputs": [
    {
     "data": {
      "text/plain": [
       "array([1.        , 0.98387097, 0.98360656, 0.97826087, 0.97333333,\n",
       "       0.96666667, 0.95454545, 0.94545455, 0.9375    , 0.90384615,\n",
       "       0.85714286, 0.8490566 , 0.84615385, 0.83333333, 0.82142857,\n",
       "       0.75      , 0.72222222, 0.67857143, 0.66666667, 0.60344828,\n",
       "       0.53061224, 0.5       , 0.4       , 0.33333333, 0.30232558,\n",
       "       0.296875  , 0.25      , 0.2       , 0.16666667, 0.16071429,\n",
       "       0.15254237, 0.11111111, 0.10344828, 0.09090909, 0.03896104,\n",
       "       0.03773585, 0.03174603, 0.03030303, 0.02985075, 0.02631579,\n",
       "       0.01886792, 0.01639344, 0.        ])"
      ]
     },
     "execution_count": 471,
     "metadata": {},
     "output_type": "execute_result"
    }
   ],
   "source": [
    "data.isHate.unique()"
   ]
  },
  {
   "cell_type": "code",
   "execution_count": 472,
   "id": "994d481c",
   "metadata": {},
   "outputs": [],
   "source": [
    "data['isHate'] = data['isHate'].round(0)"
   ]
  },
  {
   "cell_type": "code",
   "execution_count": 473,
   "id": "b1188a6c",
   "metadata": {},
   "outputs": [
    {
     "data": {
      "text/plain": [
       "array([1., 0.])"
      ]
     },
     "execution_count": 473,
     "metadata": {},
     "output_type": "execute_result"
    }
   ],
   "source": [
    "data.isHate.unique()"
   ]
  },
  {
   "cell_type": "markdown",
   "id": "4704757c",
   "metadata": {},
   "source": [
    "## train-test split"
   ]
  },
  {
   "cell_type": "code",
   "execution_count": 474,
   "id": "df49d26f",
   "metadata": {},
   "outputs": [],
   "source": [
    "X = data['comment']\n",
    "y = data['isHate']"
   ]
  },
  {
   "cell_type": "code",
   "execution_count": 475,
   "id": "118a7e97",
   "metadata": {},
   "outputs": [],
   "source": [
    "X_train, X_test, y_train, y_test = train_test_split(X, y, train_size=0.7, random_state=42)"
   ]
  },
  {
   "cell_type": "code",
   "execution_count": 476,
   "id": "93c34e95",
   "metadata": {},
   "outputs": [
    {
     "name": "stdout",
     "output_type": "stream",
     "text": [
      "(698,) (300,) (698,) (300,)\n"
     ]
    }
   ],
   "source": [
    "print(X_train.shape, X_test.shape, y_train.shape, y_test.shape)"
   ]
  },
  {
   "cell_type": "markdown",
   "id": "a119f49c",
   "metadata": {},
   "source": [
    "# Feature extraction"
   ]
  },
  {
   "cell_type": "code",
   "execution_count": 477,
   "id": "42db7663",
   "metadata": {},
   "outputs": [],
   "source": [
    "word_vec = TfidfVectorizer(\n",
    "    max_features=300,\n",
    "    strip_accents='unicode',\n",
    "    analyzer=\"word\",\n",
    "    stop_words=\"english\",\n",
    "    ngram_range=(1, 5),\n",
    ")"
   ]
  },
  {
   "cell_type": "code",
   "execution_count": 478,
   "id": "38200d65",
   "metadata": {},
   "outputs": [],
   "source": [
    "X_train = word_vec.fit_transform(X_train)\n",
    "X_test = word_vec.transform(X_test)"
   ]
  },
  {
   "cell_type": "markdown",
   "id": "eae84a3a",
   "metadata": {},
   "source": [
    "# Model creation and evaluation"
   ]
  },
  {
   "cell_type": "code",
   "execution_count": 479,
   "id": "746baf94",
   "metadata": {},
   "outputs": [],
   "source": [
    "clf = LGBMClassifier(random_state=42, learning_rate=0.5) "
   ]
  },
  {
   "cell_type": "code",
   "execution_count": 480,
   "id": "098ee000",
   "metadata": {},
   "outputs": [
    {
     "data": {
      "text/plain": [
       "{'boosting_type': 'gbdt',\n",
       " 'class_weight': None,\n",
       " 'colsample_bytree': 1.0,\n",
       " 'importance_type': 'split',\n",
       " 'learning_rate': 0.5,\n",
       " 'max_depth': -1,\n",
       " 'min_child_samples': 20,\n",
       " 'min_child_weight': 0.001,\n",
       " 'min_split_gain': 0.0,\n",
       " 'n_estimators': 100,\n",
       " 'n_jobs': -1,\n",
       " 'num_leaves': 31,\n",
       " 'objective': None,\n",
       " 'random_state': 42,\n",
       " 'reg_alpha': 0.0,\n",
       " 'reg_lambda': 0.0,\n",
       " 'silent': 'warn',\n",
       " 'subsample': 1.0,\n",
       " 'subsample_for_bin': 200000,\n",
       " 'subsample_freq': 0}"
      ]
     },
     "execution_count": 480,
     "metadata": {},
     "output_type": "execute_result"
    }
   ],
   "source": [
    "clf.get_params()"
   ]
  },
  {
   "cell_type": "code",
   "execution_count": 481,
   "id": "a35738b8",
   "metadata": {},
   "outputs": [
    {
     "data": {
      "text/html": [
       "<style>#sk-container-id-30 {color: black;background-color: white;}#sk-container-id-30 pre{padding: 0;}#sk-container-id-30 div.sk-toggleable {background-color: white;}#sk-container-id-30 label.sk-toggleable__label {cursor: pointer;display: block;width: 100%;margin-bottom: 0;padding: 0.3em;box-sizing: border-box;text-align: center;}#sk-container-id-30 label.sk-toggleable__label-arrow:before {content: \"▸\";float: left;margin-right: 0.25em;color: #696969;}#sk-container-id-30 label.sk-toggleable__label-arrow:hover:before {color: black;}#sk-container-id-30 div.sk-estimator:hover label.sk-toggleable__label-arrow:before {color: black;}#sk-container-id-30 div.sk-toggleable__content {max-height: 0;max-width: 0;overflow: hidden;text-align: left;background-color: #f0f8ff;}#sk-container-id-30 div.sk-toggleable__content pre {margin: 0.2em;color: black;border-radius: 0.25em;background-color: #f0f8ff;}#sk-container-id-30 input.sk-toggleable__control:checked~div.sk-toggleable__content {max-height: 200px;max-width: 100%;overflow: auto;}#sk-container-id-30 input.sk-toggleable__control:checked~label.sk-toggleable__label-arrow:before {content: \"▾\";}#sk-container-id-30 div.sk-estimator input.sk-toggleable__control:checked~label.sk-toggleable__label {background-color: #d4ebff;}#sk-container-id-30 div.sk-label input.sk-toggleable__control:checked~label.sk-toggleable__label {background-color: #d4ebff;}#sk-container-id-30 input.sk-hidden--visually {border: 0;clip: rect(1px 1px 1px 1px);clip: rect(1px, 1px, 1px, 1px);height: 1px;margin: -1px;overflow: hidden;padding: 0;position: absolute;width: 1px;}#sk-container-id-30 div.sk-estimator {font-family: monospace;background-color: #f0f8ff;border: 1px dotted black;border-radius: 0.25em;box-sizing: border-box;margin-bottom: 0.5em;}#sk-container-id-30 div.sk-estimator:hover {background-color: #d4ebff;}#sk-container-id-30 div.sk-parallel-item::after {content: \"\";width: 100%;border-bottom: 1px solid gray;flex-grow: 1;}#sk-container-id-30 div.sk-label:hover label.sk-toggleable__label {background-color: #d4ebff;}#sk-container-id-30 div.sk-serial::before {content: \"\";position: absolute;border-left: 1px solid gray;box-sizing: border-box;top: 0;bottom: 0;left: 50%;z-index: 0;}#sk-container-id-30 div.sk-serial {display: flex;flex-direction: column;align-items: center;background-color: white;padding-right: 0.2em;padding-left: 0.2em;position: relative;}#sk-container-id-30 div.sk-item {position: relative;z-index: 1;}#sk-container-id-30 div.sk-parallel {display: flex;align-items: stretch;justify-content: center;background-color: white;position: relative;}#sk-container-id-30 div.sk-item::before, #sk-container-id-30 div.sk-parallel-item::before {content: \"\";position: absolute;border-left: 1px solid gray;box-sizing: border-box;top: 0;bottom: 0;left: 50%;z-index: -1;}#sk-container-id-30 div.sk-parallel-item {display: flex;flex-direction: column;z-index: 1;position: relative;background-color: white;}#sk-container-id-30 div.sk-parallel-item:first-child::after {align-self: flex-end;width: 50%;}#sk-container-id-30 div.sk-parallel-item:last-child::after {align-self: flex-start;width: 50%;}#sk-container-id-30 div.sk-parallel-item:only-child::after {width: 0;}#sk-container-id-30 div.sk-dashed-wrapped {border: 1px dashed gray;margin: 0 0.4em 0.5em 0.4em;box-sizing: border-box;padding-bottom: 0.4em;background-color: white;}#sk-container-id-30 div.sk-label label {font-family: monospace;font-weight: bold;display: inline-block;line-height: 1.2em;}#sk-container-id-30 div.sk-label-container {text-align: center;}#sk-container-id-30 div.sk-container {/* jupyter's `normalize.less` sets `[hidden] { display: none; }` but bootstrap.min.css set `[hidden] { display: none !important; }` so we also need the `!important` here to be able to override the default hidden behavior on the sphinx rendered scikit-learn.org. See: https://github.com/scikit-learn/scikit-learn/issues/21755 */display: inline-block !important;position: relative;}#sk-container-id-30 div.sk-text-repr-fallback {display: none;}</style><div id=\"sk-container-id-30\" class=\"sk-top-container\"><div class=\"sk-text-repr-fallback\"><pre>LGBMClassifier(learning_rate=0.5, random_state=42)</pre><b>In a Jupyter environment, please rerun this cell to show the HTML representation or trust the notebook. <br />On GitHub, the HTML representation is unable to render, please try loading this page with nbviewer.org.</b></div><div class=\"sk-container\" hidden><div class=\"sk-item\"><div class=\"sk-estimator sk-toggleable\"><input class=\"sk-toggleable__control sk-hidden--visually\" id=\"sk-estimator-id-30\" type=\"checkbox\" checked><label for=\"sk-estimator-id-30\" class=\"sk-toggleable__label sk-toggleable__label-arrow\">LGBMClassifier</label><div class=\"sk-toggleable__content\"><pre>LGBMClassifier(learning_rate=0.5, random_state=42)</pre></div></div></div></div></div>"
      ],
      "text/plain": [
       "LGBMClassifier(learning_rate=0.5, random_state=42)"
      ]
     },
     "execution_count": 481,
     "metadata": {},
     "output_type": "execute_result"
    }
   ],
   "source": [
    "clf.fit(X_train, y_train)"
   ]
  },
  {
   "cell_type": "code",
   "execution_count": 482,
   "id": "60ca1526",
   "metadata": {},
   "outputs": [],
   "source": [
    "proba_train = clf.predict_proba(X_train)\n",
    "proba_test = clf.predict_proba(X_test)\n",
    "pred_train = clf.predict(X_train)\n",
    "pred_test = clf.predict(X_test)"
   ]
  },
  {
   "cell_type": "code",
   "execution_count": 483,
   "id": "2b9cfa6c",
   "metadata": {},
   "outputs": [],
   "source": [
    "metrics_train = {\"accuracy\": accuracy_score(y_train, pred_train),\n",
    "                 \"f1_macro\": f1_score(y_train, pred_train, average='macro'),\n",
    "                 \"roc_auc\": roc_auc_score(y_train, proba_train[:, 1]),\n",
    "                }\n",
    "\n",
    "metrics_test = {\"accuracy\": accuracy_score(y_test, pred_test),\n",
    "                \"f1_macro\": f1_score(y_test, pred_test, average='macro'),\n",
    "                \"roc_auc\": roc_auc_score(y_test, proba_test[:, 1]),\n",
    "                }"
   ]
  },
  {
   "cell_type": "code",
   "execution_count": 484,
   "id": "f2b6753e",
   "metadata": {},
   "outputs": [],
   "source": [
    "metrics_before_tuning = pd.DataFrame([metrics_train, metrics_test], index=['train', 'test']).T"
   ]
  },
  {
   "cell_type": "code",
   "execution_count": 485,
   "id": "d304d039",
   "metadata": {},
   "outputs": [
    {
     "data": {
      "text/html": [
       "<div>\n",
       "<style scoped>\n",
       "    .dataframe tbody tr th:only-of-type {\n",
       "        vertical-align: middle;\n",
       "    }\n",
       "\n",
       "    .dataframe tbody tr th {\n",
       "        vertical-align: top;\n",
       "    }\n",
       "\n",
       "    .dataframe thead th {\n",
       "        text-align: right;\n",
       "    }\n",
       "</style>\n",
       "<table border=\"1\" class=\"dataframe\">\n",
       "  <thead>\n",
       "    <tr style=\"text-align: right;\">\n",
       "      <th></th>\n",
       "      <th>train</th>\n",
       "      <th>test</th>\n",
       "    </tr>\n",
       "  </thead>\n",
       "  <tbody>\n",
       "    <tr>\n",
       "      <th>accuracy</th>\n",
       "      <td>0.921203</td>\n",
       "      <td>0.800000</td>\n",
       "    </tr>\n",
       "    <tr>\n",
       "      <th>f1_macro</th>\n",
       "      <td>0.910336</td>\n",
       "      <td>0.779239</td>\n",
       "    </tr>\n",
       "    <tr>\n",
       "      <th>roc_auc</th>\n",
       "      <td>0.972565</td>\n",
       "      <td>0.819483</td>\n",
       "    </tr>\n",
       "  </tbody>\n",
       "</table>\n",
       "</div>"
      ],
      "text/plain": [
       "             train      test\n",
       "accuracy  0.921203  0.800000\n",
       "f1_macro  0.910336  0.779239\n",
       "roc_auc   0.972565  0.819483"
      ]
     },
     "execution_count": 485,
     "metadata": {},
     "output_type": "execute_result"
    }
   ],
   "source": [
    "metrics_before_tuning"
   ]
  },
  {
   "cell_type": "markdown",
   "id": "1beac822",
   "metadata": {},
   "source": [
    "## dvc artifacts"
   ]
  },
  {
   "cell_type": "code",
   "execution_count": 486,
   "id": "70ca41c1",
   "metadata": {},
   "outputs": [],
   "source": [
    "baseline_model_params = dict()\n",
    "baseline_model_params['params'] = clf.get_params()\n",
    "baseline_model_params['accuracy'] = accuracy_score(y_test, pred_test)\n",
    "baseline_model_params['f1_macro'] = f1_score(y_test, pred_test, average='macro')\n",
    "baseline_model_params['roc_auc'] = roc_auc_score(y_test, proba_test[:, 1])\n",
    "\n",
    "with open('baseline_model_params.json', 'w') as file:\n",
    "    json.dump(baseline_model_params, file) "
   ]
  },
  {
   "cell_type": "code",
   "execution_count": 487,
   "id": "8a59965a",
   "metadata": {},
   "outputs": [],
   "source": [
    "with open('LGBMC_baseline_model.pkl', mode='wb') as file:\n",
    "        pickle.dump(clf, file)"
   ]
  },
  {
   "cell_type": "markdown",
   "id": "aa915c15",
   "metadata": {},
   "source": [
    "# Hyperparameter optimization"
   ]
  },
  {
   "cell_type": "code",
   "execution_count": 488,
   "id": "f0342d0e",
   "metadata": {},
   "outputs": [],
   "source": [
    "def objective(trial):\n",
    "    \n",
    "    param_grid = {\n",
    "        # \"device_type\": trial.suggest_categorical(\"device_type\", ['gpu']),\n",
    "        \"objective\": \"binary\",\n",
    "        \"boosting_type\": \"dart\",\n",
    "        \"n_estimators\": trial.suggest_categorical(\"n_estimators\", [1000]),\n",
    "        \"learning_rate\": trial.suggest_float(\"learning_rate\", 0.01, 0.3),\n",
    "        \"num_leaves\": trial.suggest_int(\"num_leaves\", 20, 3000, step=20),\n",
    "        \"max_depth\": trial.suggest_int(\"max_depth\", 3, 12),\n",
    "    }\n",
    "    \n",
    "    model = LGBMClassifier(**param_grid)  \n",
    "    \n",
    "    model.fit(X_train, y_train)\n",
    "    \n",
    "    pred_test = model.predict(X_test)\n",
    "    accuracy = accuracy_score(y_test, pred_test)\n",
    "    \n",
    "    return accuracy"
   ]
  },
  {
   "cell_type": "code",
   "execution_count": 489,
   "id": "b454f0b4",
   "metadata": {},
   "outputs": [
    {
     "name": "stderr",
     "output_type": "stream",
     "text": [
      "\u001b[32m[I 2023-06-10 10:58:00,997]\u001b[0m A new study created in memory with name: no-name-bdc54109-faca-48bc-85cf-0ce7f040b131\u001b[0m\n",
      "\u001b[32m[I 2023-06-10 10:58:02,856]\u001b[0m Trial 0 finished with value: 0.8066666666666666 and parameters: {'n_estimators': 1000, 'learning_rate': 0.2486955111283389, 'num_leaves': 1280, 'max_depth': 9}. Best is trial 0 with value: 0.8066666666666666.\u001b[0m\n",
      "\u001b[32m[I 2023-06-10 10:58:04,597]\u001b[0m Trial 1 finished with value: 0.8233333333333334 and parameters: {'n_estimators': 1000, 'learning_rate': 0.02301986381315008, 'num_leaves': 900, 'max_depth': 9}. Best is trial 1 with value: 0.8233333333333334.\u001b[0m\n",
      "\u001b[32m[I 2023-06-10 10:58:06,113]\u001b[0m Trial 2 finished with value: 0.8066666666666666 and parameters: {'n_estimators': 1000, 'learning_rate': 0.2122263275522174, 'num_leaves': 760, 'max_depth': 8}. Best is trial 1 with value: 0.8233333333333334.\u001b[0m\n",
      "\u001b[32m[I 2023-06-10 10:58:06,886]\u001b[0m Trial 3 finished with value: 0.83 and parameters: {'n_estimators': 1000, 'learning_rate': 0.11145023567089643, 'num_leaves': 2700, 'max_depth': 4}. Best is trial 3 with value: 0.83.\u001b[0m\n",
      "\u001b[32m[I 2023-06-10 10:58:07,493]\u001b[0m Trial 4 finished with value: 0.82 and parameters: {'n_estimators': 1000, 'learning_rate': 0.24116018590962898, 'num_leaves': 2840, 'max_depth': 3}. Best is trial 3 with value: 0.83.\u001b[0m\n",
      "\u001b[32m[I 2023-06-10 10:58:09,404]\u001b[0m Trial 5 finished with value: 0.8066666666666666 and parameters: {'n_estimators': 1000, 'learning_rate': 0.16385325939606193, 'num_leaves': 2520, 'max_depth': 11}. Best is trial 3 with value: 0.83.\u001b[0m\n",
      "\u001b[32m[I 2023-06-10 10:58:10,829]\u001b[0m Trial 6 finished with value: 0.8033333333333333 and parameters: {'n_estimators': 1000, 'learning_rate': 0.2184996414681679, 'num_leaves': 1880, 'max_depth': 8}. Best is trial 3 with value: 0.83.\u001b[0m\n",
      "\u001b[32m[I 2023-06-10 10:58:12,887]\u001b[0m Trial 7 finished with value: 0.8066666666666666 and parameters: {'n_estimators': 1000, 'learning_rate': 0.17794047121995762, 'num_leaves': 2300, 'max_depth': 11}. Best is trial 3 with value: 0.83.\u001b[0m\n",
      "\u001b[32m[I 2023-06-10 10:58:14,717]\u001b[0m Trial 8 finished with value: 0.8166666666666667 and parameters: {'n_estimators': 1000, 'learning_rate': 0.029694318169875396, 'num_leaves': 460, 'max_depth': 7}. Best is trial 3 with value: 0.83.\u001b[0m\n",
      "\u001b[32m[I 2023-06-10 10:58:15,904]\u001b[0m Trial 9 finished with value: 0.8266666666666667 and parameters: {'n_estimators': 1000, 'learning_rate': 0.04997401545516774, 'num_leaves': 540, 'max_depth': 6}. Best is trial 3 with value: 0.83.\u001b[0m\n",
      "\u001b[32m[I 2023-06-10 10:58:16,622]\u001b[0m Trial 10 finished with value: 0.8233333333333334 and parameters: {'n_estimators': 1000, 'learning_rate': 0.08996028383727021, 'num_leaves': 3000, 'max_depth': 3}. Best is trial 3 with value: 0.83.\u001b[0m\n",
      "\u001b[32m[I 2023-06-10 10:58:17,733]\u001b[0m Trial 11 finished with value: 0.8333333333333334 and parameters: {'n_estimators': 1000, 'learning_rate': 0.08951996820130269, 'num_leaves': 80, 'max_depth': 5}. Best is trial 11 with value: 0.8333333333333334.\u001b[0m\n",
      "\u001b[32m[I 2023-06-10 10:58:18,849]\u001b[0m Trial 12 finished with value: 0.8233333333333334 and parameters: {'n_estimators': 1000, 'learning_rate': 0.11969854260452095, 'num_leaves': 160, 'max_depth': 5}. Best is trial 11 with value: 0.8333333333333334.\u001b[0m\n",
      "\u001b[32m[I 2023-06-10 10:58:19,910]\u001b[0m Trial 13 finished with value: 0.83 and parameters: {'n_estimators': 1000, 'learning_rate': 0.10132778715286898, 'num_leaves': 1680, 'max_depth': 5}. Best is trial 11 with value: 0.8333333333333334.\u001b[0m\n",
      "\u001b[32m[I 2023-06-10 10:58:20,776]\u001b[0m Trial 14 finished with value: 0.8233333333333334 and parameters: {'n_estimators': 1000, 'learning_rate': 0.07623440765696528, 'num_leaves': 2200, 'max_depth': 4}. Best is trial 11 with value: 0.8333333333333334.\u001b[0m\n",
      "\u001b[32m[I 2023-06-10 10:58:21,816]\u001b[0m Trial 15 finished with value: 0.8 and parameters: {'n_estimators': 1000, 'learning_rate': 0.2927691520517166, 'num_leaves': 1280, 'max_depth': 5}. Best is trial 11 with value: 0.8333333333333334.\u001b[0m\n",
      "\u001b[32m[I 2023-06-10 10:58:22,937]\u001b[0m Trial 16 finished with value: 0.8166666666666667 and parameters: {'n_estimators': 1000, 'learning_rate': 0.13180816808790796, 'num_leaves': 180, 'max_depth': 6}. Best is trial 11 with value: 0.8333333333333334.\u001b[0m\n",
      "\u001b[32m[I 2023-06-10 10:58:24,353]\u001b[0m Trial 17 finished with value: 0.8266666666666667 and parameters: {'n_estimators': 1000, 'learning_rate': 0.06704492648683037, 'num_leaves': 1100, 'max_depth': 4}. Best is trial 11 with value: 0.8333333333333334.\u001b[0m\n",
      "\u001b[32m[I 2023-06-10 10:58:25,229]\u001b[0m Trial 18 finished with value: 0.83 and parameters: {'n_estimators': 1000, 'learning_rate': 0.13605994237221386, 'num_leaves': 1880, 'max_depth': 4}. Best is trial 11 with value: 0.8333333333333334.\u001b[0m\n",
      "\u001b[32m[I 2023-06-10 10:58:26,340]\u001b[0m Trial 19 finished with value: 0.8133333333333334 and parameters: {'n_estimators': 1000, 'learning_rate': 0.14353369700066657, 'num_leaves': 1920, 'max_depth': 6}. Best is trial 11 with value: 0.8333333333333334.\u001b[0m\n"
     ]
    },
    {
     "name": "stdout",
     "output_type": "stream",
     "text": [
      "Number of finished trials: 20\n"
     ]
    }
   ],
   "source": [
    "study = optuna.create_study(direction=\"maximize\")\n",
    "study.optimize(objective, n_trials=20)\n",
    "print('Number of finished trials:', len(study.trials))"
   ]
  },
  {
   "cell_type": "code",
   "execution_count": 490,
   "id": "a5d58cd2",
   "metadata": {},
   "outputs": [
    {
     "name": "stdout",
     "output_type": "stream",
     "text": [
      "Best trial: {'n_estimators': 1000, 'learning_rate': 0.08951996820130269, 'num_leaves': 80, 'max_depth': 5}\n"
     ]
    }
   ],
   "source": [
    "print('Best trial:', study.best_trial.params)"
   ]
  },
  {
   "cell_type": "markdown",
   "id": "fadb52f8",
   "metadata": {},
   "source": [
    "# Model with best params"
   ]
  },
  {
   "cell_type": "code",
   "execution_count": 491,
   "id": "9654f67b",
   "metadata": {},
   "outputs": [],
   "source": [
    "clf_best = LGBMClassifier(**study.best_trial.params)"
   ]
  },
  {
   "cell_type": "code",
   "execution_count": 492,
   "id": "7538abdf",
   "metadata": {},
   "outputs": [
    {
     "data": {
      "text/html": [
       "<style>#sk-container-id-31 {color: black;background-color: white;}#sk-container-id-31 pre{padding: 0;}#sk-container-id-31 div.sk-toggleable {background-color: white;}#sk-container-id-31 label.sk-toggleable__label {cursor: pointer;display: block;width: 100%;margin-bottom: 0;padding: 0.3em;box-sizing: border-box;text-align: center;}#sk-container-id-31 label.sk-toggleable__label-arrow:before {content: \"▸\";float: left;margin-right: 0.25em;color: #696969;}#sk-container-id-31 label.sk-toggleable__label-arrow:hover:before {color: black;}#sk-container-id-31 div.sk-estimator:hover label.sk-toggleable__label-arrow:before {color: black;}#sk-container-id-31 div.sk-toggleable__content {max-height: 0;max-width: 0;overflow: hidden;text-align: left;background-color: #f0f8ff;}#sk-container-id-31 div.sk-toggleable__content pre {margin: 0.2em;color: black;border-radius: 0.25em;background-color: #f0f8ff;}#sk-container-id-31 input.sk-toggleable__control:checked~div.sk-toggleable__content {max-height: 200px;max-width: 100%;overflow: auto;}#sk-container-id-31 input.sk-toggleable__control:checked~label.sk-toggleable__label-arrow:before {content: \"▾\";}#sk-container-id-31 div.sk-estimator input.sk-toggleable__control:checked~label.sk-toggleable__label {background-color: #d4ebff;}#sk-container-id-31 div.sk-label input.sk-toggleable__control:checked~label.sk-toggleable__label {background-color: #d4ebff;}#sk-container-id-31 input.sk-hidden--visually {border: 0;clip: rect(1px 1px 1px 1px);clip: rect(1px, 1px, 1px, 1px);height: 1px;margin: -1px;overflow: hidden;padding: 0;position: absolute;width: 1px;}#sk-container-id-31 div.sk-estimator {font-family: monospace;background-color: #f0f8ff;border: 1px dotted black;border-radius: 0.25em;box-sizing: border-box;margin-bottom: 0.5em;}#sk-container-id-31 div.sk-estimator:hover {background-color: #d4ebff;}#sk-container-id-31 div.sk-parallel-item::after {content: \"\";width: 100%;border-bottom: 1px solid gray;flex-grow: 1;}#sk-container-id-31 div.sk-label:hover label.sk-toggleable__label {background-color: #d4ebff;}#sk-container-id-31 div.sk-serial::before {content: \"\";position: absolute;border-left: 1px solid gray;box-sizing: border-box;top: 0;bottom: 0;left: 50%;z-index: 0;}#sk-container-id-31 div.sk-serial {display: flex;flex-direction: column;align-items: center;background-color: white;padding-right: 0.2em;padding-left: 0.2em;position: relative;}#sk-container-id-31 div.sk-item {position: relative;z-index: 1;}#sk-container-id-31 div.sk-parallel {display: flex;align-items: stretch;justify-content: center;background-color: white;position: relative;}#sk-container-id-31 div.sk-item::before, #sk-container-id-31 div.sk-parallel-item::before {content: \"\";position: absolute;border-left: 1px solid gray;box-sizing: border-box;top: 0;bottom: 0;left: 50%;z-index: -1;}#sk-container-id-31 div.sk-parallel-item {display: flex;flex-direction: column;z-index: 1;position: relative;background-color: white;}#sk-container-id-31 div.sk-parallel-item:first-child::after {align-self: flex-end;width: 50%;}#sk-container-id-31 div.sk-parallel-item:last-child::after {align-self: flex-start;width: 50%;}#sk-container-id-31 div.sk-parallel-item:only-child::after {width: 0;}#sk-container-id-31 div.sk-dashed-wrapped {border: 1px dashed gray;margin: 0 0.4em 0.5em 0.4em;box-sizing: border-box;padding-bottom: 0.4em;background-color: white;}#sk-container-id-31 div.sk-label label {font-family: monospace;font-weight: bold;display: inline-block;line-height: 1.2em;}#sk-container-id-31 div.sk-label-container {text-align: center;}#sk-container-id-31 div.sk-container {/* jupyter's `normalize.less` sets `[hidden] { display: none; }` but bootstrap.min.css set `[hidden] { display: none !important; }` so we also need the `!important` here to be able to override the default hidden behavior on the sphinx rendered scikit-learn.org. See: https://github.com/scikit-learn/scikit-learn/issues/21755 */display: inline-block !important;position: relative;}#sk-container-id-31 div.sk-text-repr-fallback {display: none;}</style><div id=\"sk-container-id-31\" class=\"sk-top-container\"><div class=\"sk-text-repr-fallback\"><pre>LGBMClassifier(learning_rate=0.08951996820130269, max_depth=5,\n",
       "               n_estimators=1000, num_leaves=80)</pre><b>In a Jupyter environment, please rerun this cell to show the HTML representation or trust the notebook. <br />On GitHub, the HTML representation is unable to render, please try loading this page with nbviewer.org.</b></div><div class=\"sk-container\" hidden><div class=\"sk-item\"><div class=\"sk-estimator sk-toggleable\"><input class=\"sk-toggleable__control sk-hidden--visually\" id=\"sk-estimator-id-31\" type=\"checkbox\" checked><label for=\"sk-estimator-id-31\" class=\"sk-toggleable__label sk-toggleable__label-arrow\">LGBMClassifier</label><div class=\"sk-toggleable__content\"><pre>LGBMClassifier(learning_rate=0.08951996820130269, max_depth=5,\n",
       "               n_estimators=1000, num_leaves=80)</pre></div></div></div></div></div>"
      ],
      "text/plain": [
       "LGBMClassifier(learning_rate=0.08951996820130269, max_depth=5,\n",
       "               n_estimators=1000, num_leaves=80)"
      ]
     },
     "execution_count": 492,
     "metadata": {},
     "output_type": "execute_result"
    }
   ],
   "source": [
    "clf_best.fit(X_train, y_train)"
   ]
  },
  {
   "cell_type": "code",
   "execution_count": 493,
   "id": "f12b67d8",
   "metadata": {},
   "outputs": [],
   "source": [
    "proba_train = clf_best.predict_proba(X_train)\n",
    "proba_test = clf_best.predict_proba(X_test)\n",
    "pred_train = clf_best.predict(X_train)\n",
    "pred_test = clf_best.predict(X_test)"
   ]
  },
  {
   "cell_type": "code",
   "execution_count": 494,
   "id": "ceccf0c4",
   "metadata": {},
   "outputs": [],
   "source": [
    "metrics_train = {\"accuracy\": accuracy_score(y_train, pred_train),\n",
    "                 \"f1_macro\": f1_score(y_train, pred_train, average='macro'),\n",
    "                 \"roc_auc\": roc_auc_score(y_train, proba_train[:, 1]),\n",
    "                }\n",
    "\n",
    "metrics_test = {\"accuracy\": accuracy_score(y_test, pred_test),\n",
    "                \"f1_macro\": f1_score(y_test, pred_test, average='macro'),\n",
    "                \"roc_auc\": roc_auc_score(y_test, proba_test[:, 1]),\n",
    "                }"
   ]
  },
  {
   "cell_type": "code",
   "execution_count": 495,
   "id": "57dc7b30",
   "metadata": {},
   "outputs": [],
   "source": [
    "metrics_after_tuning = pd.DataFrame([metrics_train, metrics_test], index=['train', 'test']).T"
   ]
  },
  {
   "cell_type": "code",
   "execution_count": 496,
   "id": "13aa16e0",
   "metadata": {},
   "outputs": [
    {
     "data": {
      "text/html": [
       "<div>\n",
       "<style scoped>\n",
       "    .dataframe tbody tr th:only-of-type {\n",
       "        vertical-align: middle;\n",
       "    }\n",
       "\n",
       "    .dataframe tbody tr th {\n",
       "        vertical-align: top;\n",
       "    }\n",
       "\n",
       "    .dataframe thead th {\n",
       "        text-align: right;\n",
       "    }\n",
       "</style>\n",
       "<table border=\"1\" class=\"dataframe\">\n",
       "  <thead>\n",
       "    <tr style=\"text-align: right;\">\n",
       "      <th></th>\n",
       "      <th>train</th>\n",
       "      <th>test</th>\n",
       "    </tr>\n",
       "  </thead>\n",
       "  <tbody>\n",
       "    <tr>\n",
       "      <th>accuracy</th>\n",
       "      <td>0.918338</td>\n",
       "      <td>0.803333</td>\n",
       "    </tr>\n",
       "    <tr>\n",
       "      <th>f1_macro</th>\n",
       "      <td>0.906863</td>\n",
       "      <td>0.781414</td>\n",
       "    </tr>\n",
       "    <tr>\n",
       "      <th>roc_auc</th>\n",
       "      <td>0.965560</td>\n",
       "      <td>0.842506</td>\n",
       "    </tr>\n",
       "  </tbody>\n",
       "</table>\n",
       "</div>"
      ],
      "text/plain": [
       "             train      test\n",
       "accuracy  0.918338  0.803333\n",
       "f1_macro  0.906863  0.781414\n",
       "roc_auc   0.965560  0.842506"
      ]
     },
     "execution_count": 496,
     "metadata": {},
     "output_type": "execute_result"
    }
   ],
   "source": [
    "metrics_after_tuning"
   ]
  },
  {
   "cell_type": "markdown",
   "id": "41df6f70",
   "metadata": {},
   "source": [
    "## dvc artifacts"
   ]
  },
  {
   "cell_type": "code",
   "execution_count": 497,
   "id": "89c5aaba",
   "metadata": {},
   "outputs": [],
   "source": [
    "tuned_model_params = dict()\n",
    "tuned_model_params['params'] = clf_best.get_params()\n",
    "tuned_model_params['accuracy'] = accuracy_score(y_test, pred_test)\n",
    "tuned_model_params['f1_macro'] = f1_score(y_test, pred_test, average='macro')\n",
    "tuned_model_params['roc_auc'] = roc_auc_score(y_test, proba_test[:, 1])\n",
    "\n",
    "with open('tuned_model_params.json', 'w') as file:\n",
    "    json.dump(tuned_model_params, file) "
   ]
  },
  {
   "cell_type": "code",
   "execution_count": 498,
   "id": "159417f8",
   "metadata": {},
   "outputs": [],
   "source": [
    "with open('LGBMC_tuned_model.pkl', mode='wb') as file:\n",
    "        pickle.dump(clf_best, file)"
   ]
  }
 ],
 "metadata": {
  "kernelspec": {
   "display_name": "Python 3 (ipykernel)",
   "language": "python",
   "name": "python3"
  },
  "language_info": {
   "codemirror_mode": {
    "name": "ipython",
    "version": 3
   },
   "file_extension": ".py",
   "mimetype": "text/x-python",
   "name": "python",
   "nbconvert_exporter": "python",
   "pygments_lexer": "ipython3",
   "version": "3.8.15"
  }
 },
 "nbformat": 4,
 "nbformat_minor": 5
}
