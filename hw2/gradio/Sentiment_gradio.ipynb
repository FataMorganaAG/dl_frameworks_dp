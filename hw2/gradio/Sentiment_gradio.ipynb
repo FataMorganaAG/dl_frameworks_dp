{
  "nbformat": 4,
  "nbformat_minor": 0,
  "metadata": {
    "colab": {
      "provenance": [],
      "gpuType": "T4"
    },
    "kernelspec": {
      "name": "python3",
      "display_name": "Python 3"
    },
    "language_info": {
      "name": "python"
    }
  },
  "cells": [
    {
      "cell_type": "code",
      "source": [
        "!pip install transformers"
      ],
      "metadata": {
        "id": "RSJERDu53M-J"
      },
      "execution_count": null,
      "outputs": []
    },
    {
      "cell_type": "code",
      "source": [
        "!pip install xformers"
      ],
      "metadata": {
        "id": "e7_Tfofr573g"
      },
      "execution_count": null,
      "outputs": []
    },
    {
      "cell_type": "code",
      "source": [
        "!pip install ray[serve]"
      ],
      "metadata": {
        "id": "5zf8Desv3NRf"
      },
      "execution_count": null,
      "outputs": []
    },
    {
      "cell_type": "code",
      "source": [
        "!pip install gradio"
      ],
      "metadata": {
        "id": "QeTce-Oh4vfH"
      },
      "execution_count": null,
      "outputs": []
    },
    {
      "cell_type": "code",
      "source": [
        "!pip install -q pyngrok"
      ],
      "metadata": {
        "id": "gDepbkKuZKOq"
      },
      "execution_count": 13,
      "outputs": []
    },
    {
      "cell_type": "code",
      "execution_count": 15,
      "metadata": {
        "id": "nuZ9i2TY2mMA"
      },
      "outputs": [],
      "source": [
        "import ray\n",
        "import requests\n",
        "import pandas as pd\n",
        "import numpy as np\n",
        "import gradio as gr\n",
        "import matplotlib.pyplot as plt\n",
        "\n",
        "from typing import List\n",
        "from ray import serve\n",
        "from ray.serve.gradio_integrations import GradioServer\n",
        "from fastapi import FastAPI\n",
        "from pydantic import PositiveInt, constr, BaseModel\n",
        "from pyngrok import ngrok\n",
        "\n",
        "from transformers import pipeline\n",
        "from transformers import AutoModelForSequenceClassification\n",
        "from transformers import TFAutoModelForSequenceClassification\n",
        "from transformers import AutoTokenizer, AutoConfig"
      ]
    },
    {
      "cell_type": "markdown",
      "source": [
        "https://github.com/deeppavlov/dl-frameworks-course/blob/dev/Pytorch_MLOps/Ray_Serve_NLP.ipynb"
      ],
      "metadata": {
        "id": "vnF8pKZ6TNsk"
      }
    },
    {
      "cell_type": "code",
      "source": [
        "ray.init()"
      ],
      "metadata": {
        "colab": {
          "base_uri": "https://localhost:8080/",
          "height": 96
        },
        "id": "nCzF6ejPTAuv",
        "outputId": "a03aac37-73c4-4455-b408-c297a49d1c6c"
      },
      "execution_count": 6,
      "outputs": [
        {
          "output_type": "stream",
          "name": "stderr",
          "text": [
            "2023-06-16 17:10:16,561\tINFO worker.py:1627 -- Started a local Ray instance. View the dashboard at \u001b[1m\u001b[32m127.0.0.1:8265 \u001b[39m\u001b[22m\n"
          ]
        },
        {
          "output_type": "execute_result",
          "data": {
            "text/plain": [
              "RayContext(dashboard_url='127.0.0.1:8265', python_version='3.10.12', ray_version='2.5.0', ray_commit='586c376e0769082cb5cfa1333e8264a5fa6b73ec', address_info={'node_ip_address': '172.28.0.12', 'raylet_ip_address': '172.28.0.12', 'redis_address': None, 'object_store_address': '/tmp/ray/session_2023-06-16_17-10-11_806937_13000/sockets/plasma_store', 'raylet_socket_name': '/tmp/ray/session_2023-06-16_17-10-11_806937_13000/sockets/raylet', 'webui_url': '127.0.0.1:8265', 'session_dir': '/tmp/ray/session_2023-06-16_17-10-11_806937_13000', 'metrics_export_port': 45658, 'gcs_address': '172.28.0.12:60750', 'address': '172.28.0.12:60750', 'dashboard_agent_listen_port': 52365, 'node_id': 'cdc0e7ae59522dd39e6a24a4e60307ede45eb2a1b9f7c2f692f9d6f3'})"
            ],
            "text/html": [
              "<div>\n",
              "    <div style=\"margin-left: 50px;display: flex;flex-direction: row;align-items: center\">\n",
              "        <h3 style=\"color: var(--jp-ui-font-color0)\">Ray</h3>\n",
              "        <svg version=\"1.1\" id=\"ray\" width=\"3em\" viewBox=\"0 0 144.5 144.6\" style=\"margin-left: 3em;margin-right: 3em\">\n",
              "            <g id=\"layer-1\">\n",
              "                <path fill=\"#00a2e9\" class=\"st0\" d=\"M97.3,77.2c-3.8-1.1-6.2,0.9-8.3,5.1c-3.5,6.8-9.9,9.9-17.4,9.6S58,88.1,54.8,81.2c-1.4-3-3-4-6.3-4.1\n",
              "                    c-5.6-0.1-9.9,0.1-13.1,6.4c-3.8,7.6-13.6,10.2-21.8,7.6C5.2,88.4-0.4,80.5,0,71.7c0.1-8.4,5.7-15.8,13.8-18.2\n",
              "                    c8.4-2.6,17.5,0.7,22.3,8c1.3,1.9,1.3,5.2,3.6,5.6c3.9,0.6,8,0.2,12,0.2c1.8,0,1.9-1.6,2.4-2.8c3.5-7.8,9.7-11.8,18-11.9\n",
              "                    c8.2-0.1,14.4,3.9,17.8,11.4c1.3,2.8,2.9,3.6,5.7,3.3c1-0.1,2,0.1,3,0c2.8-0.5,6.4,1.7,8.1-2.7s-2.3-5.5-4.1-7.5\n",
              "                    c-5.1-5.7-10.9-10.8-16.1-16.3C84,38,81.9,37.1,78,38.3C66.7,42,56.2,35.7,53,24.1C50.3,14,57.3,2.8,67.7,0.5\n",
              "                    C78.4-2,89,4.7,91.5,15.3c0.1,0.3,0.1,0.5,0.2,0.8c0.7,3.4,0.7,6.9-0.8,9.8c-1.7,3.2-0.8,5,1.5,7.2c6.7,6.5,13.3,13,19.8,19.7\n",
              "                    c1.8,1.8,3,2.1,5.5,1.2c9.1-3.4,17.9-0.6,23.4,7c4.8,6.9,4.6,16.1-0.4,22.9c-5.4,7.2-14.2,9.9-23.1,6.5c-2.3-0.9-3.5-0.6-5.1,1.1\n",
              "                    c-6.7,6.9-13.6,13.7-20.5,20.4c-1.8,1.8-2.5,3.2-1.4,5.9c3.5,8.7,0.3,18.6-7.7,23.6c-7.9,5-18.2,3.8-24.8-2.9\n",
              "                    c-6.4-6.4-7.4-16.2-2.5-24.3c4.9-7.8,14.5-11,23.1-7.8c3,1.1,4.7,0.5,6.9-1.7C91.7,98.4,98,92.3,104.2,86c1.6-1.6,4.1-2.7,2.6-6.2\n",
              "                    c-1.4-3.3-3.8-2.5-6.2-2.6C99.8,77.2,98.9,77.2,97.3,77.2z M72.1,29.7c5.5,0.1,9.9-4.3,10-9.8c0-0.1,0-0.2,0-0.3\n",
              "                    C81.8,14,77,9.8,71.5,10.2c-5,0.3-9,4.2-9.3,9.2c-0.2,5.5,4,10.1,9.5,10.3C71.8,29.7,72,29.7,72.1,29.7z M72.3,62.3\n",
              "                    c-5.4-0.1-9.9,4.2-10.1,9.7c0,0.2,0,0.3,0,0.5c0.2,5.4,4.5,9.7,9.9,10c5.1,0.1,9.9-4.7,10.1-9.8c0.2-5.5-4-10-9.5-10.3\n",
              "                    C72.6,62.3,72.4,62.3,72.3,62.3z M115,72.5c0.1,5.4,4.5,9.7,9.8,9.9c5.6-0.2,10-4.8,10-10.4c-0.2-5.4-4.6-9.7-10-9.7\n",
              "                    c-5.3-0.1-9.8,4.2-9.9,9.5C115,72.1,115,72.3,115,72.5z M19.5,62.3c-5.4,0.1-9.8,4.4-10,9.8c-0.1,5.1,5.2,10.4,10.2,10.3\n",
              "                    c5.6-0.2,10-4.9,9.8-10.5c-0.1-5.4-4.5-9.7-9.9-9.6C19.6,62.3,19.5,62.3,19.5,62.3z M71.8,134.6c5.9,0.2,10.3-3.9,10.4-9.6\n",
              "                    c0.5-5.5-3.6-10.4-9.1-10.8c-5.5-0.5-10.4,3.6-10.8,9.1c0,0.5,0,0.9,0,1.4c-0.2,5.3,4,9.8,9.3,10\n",
              "                    C71.6,134.6,71.7,134.6,71.8,134.6z\"/>\n",
              "            </g>\n",
              "        </svg>\n",
              "        <table>\n",
              "            <tr>\n",
              "                <td style=\"text-align: left\"><b>Python version:</b></td>\n",
              "                <td style=\"text-align: left\"><b>3.10.12</b></td>\n",
              "            </tr>\n",
              "            <tr>\n",
              "                <td style=\"text-align: left\"><b>Ray version:</b></td>\n",
              "                <td style=\"text-align: left\"><b> 2.5.0</b></td>\n",
              "            </tr>\n",
              "            <tr>\n",
              "    <td style=\"text-align: left\"><b>Dashboard:</b></td>\n",
              "    <td style=\"text-align: left\"><b><a href=\"http://127.0.0.1:8265\" target=\"_blank\">http://127.0.0.1:8265</a></b></td>\n",
              "</tr>\n",
              "\n",
              "        </table>\n",
              "    </div>\n",
              "</div>\n"
            ]
          },
          "metadata": {},
          "execution_count": 6
        }
      ]
    },
    {
      "cell_type": "code",
      "source": [
        "serve.start()"
      ],
      "metadata": {
        "colab": {
          "base_uri": "https://localhost:8080/"
        },
        "id": "30N7jViJ9qo3",
        "outputId": "fb614151-3458-48fb-e519-701eb0ea053d"
      },
      "execution_count": 7,
      "outputs": [
        {
          "output_type": "execute_result",
          "data": {
            "text/plain": [
              "<ray.serve._private.client.ServeControllerClient at 0x7f010b4d87f0>"
            ]
          },
          "metadata": {},
          "execution_count": 7
        }
      ]
    },
    {
      "cell_type": "code",
      "source": [
        "# https://huggingface.co/cardiffnlp/twitter-roberta-base-sentiment-latest\n",
        "\n",
        "MODEL = f\"cardiffnlp/twitter-roberta-base-sentiment-latest\"\n",
        "tokenizer = AutoTokenizer.from_pretrained(MODEL)\n",
        "config = AutoConfig.from_pretrained(MODEL)\n",
        "sentiment_latest = AutoModelForSequenceClassification.from_pretrained(MODEL)\n",
        "model = pipeline(\"sentiment-analysis\", model=sentiment_latest, tokenizer=tokenizer)"
      ],
      "metadata": {
        "colab": {
          "base_uri": "https://localhost:8080/"
        },
        "id": "gsLPyD49K-Ax",
        "outputId": "fe6d7549-13b1-42f8-b59a-09394da883d6"
      },
      "execution_count": 2,
      "outputs": [
        {
          "output_type": "stream",
          "name": "stderr",
          "text": [
            "Some weights of the model checkpoint at cardiffnlp/twitter-roberta-base-sentiment-latest were not used when initializing RobertaForSequenceClassification: ['roberta.pooler.dense.bias', 'roberta.pooler.dense.weight']\n",
            "- This IS expected if you are initializing RobertaForSequenceClassification from the checkpoint of a model trained on another task or with another architecture (e.g. initializing a BertForSequenceClassification model from a BertForPreTraining model).\n",
            "- This IS NOT expected if you are initializing RobertaForSequenceClassification from the checkpoint of a model that you expect to be exactly identical (initializing a BertForSequenceClassification model from a BertForSequenceClassification model).\n"
          ]
        }
      ]
    },
    {
      "cell_type": "code",
      "source": [
        "class Item(BaseModel):\n",
        "    lines: List[str]\n",
        "    char_names: List[str]\n",
        "    movie_name: List[str]\n",
        "    genres: List[str]\n",
        "\n",
        "\n",
        "app = FastAPI()\n",
        "\n",
        "@serve.deployment\n",
        "@serve.ingress(app)\n",
        "class SentimentAnalyzer:\n",
        "    \"\"\"\n",
        "    A class for analyzing the sentiment of text and dataframes using a pre-trained model.\n",
        "    \"\"\"\n",
        "    def __init__(self):\n",
        "        self.model = pipeline(\"sentiment-analysis\", model=sentiment_latest, tokenizer=tokenizer)\n",
        "\n",
        "    @app.post(\"/df/\")\n",
        "    def analyze_sentiment_df(\n",
        "        self,\n",
        "        df_param: List[Item],\n",
        "        max_lines: PositiveInt = 15,\n",
        "    ):\n",
        "        \"\"\"\n",
        "        Analyzes the sentiment of a dataframe (json) using a pre-trained model.\n",
        "        \"\"\"\n",
        "        if len(df_param) > max_lines:\n",
        "          df_param = df_param[:max_lines]\n",
        "        l = [r.lines for r in df_param][0]\n",
        "        sent_list = self.model(l)\n",
        "        label = [r['label'] for r in sent_list]\n",
        "        return label\n",
        "\n",
        "    @app.get(\"/\")\n",
        "    def analyze_sentiment_text(\n",
        "        self,\n",
        "        text: constr(min_length=1, strip_whitespace=True),\n",
        "        max_length: PositiveInt = 300,\n",
        "    ):\n",
        "        \"\"\"\n",
        "        Analyzes the sentiment of a text string using a pre-trained model.\n",
        "        \"\"\"\n",
        "        if len(text) > max_length:\n",
        "          text = text[:max_length]\n",
        "        sent_list = self.model(text)\n",
        "        sentiment = sent_list[0][\"label\"]\n",
        "        return sentiment\n",
        "\n",
        "SentimentAnalyzer.deploy()"
      ],
      "metadata": {
        "colab": {
          "base_uri": "https://localhost:8080/"
        },
        "id": "8VihV75G_J4T",
        "outputId": "0c77ad05-43c5-4c16-b369-d1fad0909775"
      },
      "execution_count": 9,
      "outputs": [
        {
          "output_type": "stream",
          "name": "stderr",
          "text": [
            "\u001b[2m\u001b[36m(ServeController pid=13937)\u001b[0m INFO 2023-06-16 17:11:22,564 controller 13937 deployment_state.py:1298 - Deploying new version of deployment SentimentAnalyzer.\n",
            "\u001b[2m\u001b[36m(ServeController pid=13937)\u001b[0m INFO 2023-06-16 17:11:22,612 controller 13937 deployment_state.py:1537 - Adding 1 replica to deployment SentimentAnalyzer.\n",
            "\u001b[2m\u001b[36m(ServeController pid=13937)\u001b[0m WARNING 2023-06-16 17:11:53,366 controller 13937 deployment_state.py:1849 - Deployment \"SentimentAnalyzer\" has 1 replicas that have taken more than 30s to be scheduled. This may be caused by waiting for the cluster to auto-scale, or waiting for a runtime environment to install. Resources required for each replica: {\"CPU\": 1}, resources available: {\"CPU\": 1.0}.\n",
            "\u001b[2m\u001b[36m(ServeReplica:SentimentAnalyzer pid=14280)\u001b[0m 2023-06-16 17:11:53.429465: W tensorflow/compiler/tf2tensorrt/utils/py_utils.cc:38] TF-TRT Warning: Could not find TensorRT\n"
          ]
        }
      ]
    },
    {
      "cell_type": "code",
      "source": [
        "response = requests.post(\n",
        "    \"http://127.0.0.1:8000/SentimentAnalyzer/df/\", json=[{\"lines\": ['Are we supposed to be up here? The rules said...', \"Homer you the only one who's read them rules so you the only one who feels like he's doin' somethin' wrong.\"],\n",
        "                                                          \"char_names\": ['HOMER', 'MR. ROSE'],\n",
        "                                                          \"movie_name\": ['the cider house rules'],\n",
        "                                                          \"genres\": ['drama', 'romance']}]\n",
        ").text\n",
        "\n",
        "response"
      ],
      "metadata": {
        "colab": {
          "base_uri": "https://localhost:8080/",
          "height": 34
        },
        "id": "vtWYBmETK3nH",
        "outputId": "739ae7ff-c25f-4fb7-a807-4ccb9b4b8bbd"
      },
      "execution_count": 15,
      "outputs": [
        {
          "output_type": "execute_result",
          "data": {
            "text/plain": [
              "'[\"neutral\",\"negative\"]'"
            ],
            "application/vnd.google.colaboratory.intrinsic+json": {
              "type": "string"
            }
          },
          "metadata": {},
          "execution_count": 15
        }
      ]
    },
    {
      "cell_type": "code",
      "source": [
        "response = requests.get(\n",
        "    \"http://127.0.0.1:8000/SentimentAnalyzer/\", params={\"text\":'I like you. I love you.'}\n",
        ").text\n",
        "\n",
        "response"
      ],
      "metadata": {
        "colab": {
          "base_uri": "https://localhost:8080/",
          "height": 50
        },
        "id": "A6ciT_rpK3wH",
        "outputId": "6636d2a1-b03a-4edf-d871-8a062475d6e1"
      },
      "execution_count": 16,
      "outputs": [
        {
          "output_type": "stream",
          "name": "stderr",
          "text": [
            "\u001b[2m\u001b[36m(ServeReplica:SentimentAnalyzer pid=14280)\u001b[0m INFO 2023-06-16 17:16:46,060 SentimentAnalyzer SentimentAnalyzer#bHMwQQ XtpTOrmexy /SentimentAnalyzer/ replica.py:654 - __CALL__ OK 167.1ms\n"
          ]
        },
        {
          "output_type": "execute_result",
          "data": {
            "text/plain": [
              "'\"positive\"'"
            ],
            "application/vnd.google.colaboratory.intrinsic+json": {
              "type": "string"
            }
          },
          "metadata": {},
          "execution_count": 16
        }
      ]
    },
    {
      "cell_type": "code",
      "source": [
        "ngrok.connect(8265)"
      ],
      "metadata": {
        "colab": {
          "base_uri": "https://localhost:8080/"
        },
        "id": "YZYWSzU3ZHLY",
        "outputId": "e5aea0db-7c62-49a8-b468-244a9b3bb0fb"
      },
      "execution_count": 18,
      "outputs": [
        {
          "output_type": "stream",
          "name": "stderr",
          "text": [
            "WARNING:pyngrok.process.ngrok:t=2023-06-16T17:17:04+0000 lvl=warn msg=\"ngrok config file found at legacy location, move to XDG location\" xdg_path=/root/.config/ngrok/ngrok.yml legacy_path=/root/.ngrok2/ngrok.yml\n"
          ]
        },
        {
          "output_type": "execute_result",
          "data": {
            "text/plain": [
              "<NgrokTunnel: \"https://4804-34-125-143-75.ngrok.io\" -> \"http://localhost:8265\">"
            ]
          },
          "metadata": {},
          "execution_count": 18
        }
      ]
    },
    {
      "cell_type": "code",
      "source": [
        "serve.shutdown()"
      ],
      "metadata": {
        "colab": {
          "base_uri": "https://localhost:8080/"
        },
        "id": "gNVEWrSQF4bk",
        "outputId": "605f33a1-bd82-4a54-85a7-12705e63c22e"
      },
      "execution_count": 19,
      "outputs": [
        {
          "output_type": "stream",
          "name": "stderr",
          "text": [
            "\u001b[2m\u001b[36m(ServeController pid=13937)\u001b[0m INFO 2023-06-16 17:17:27,982 controller 13937 deployment_state.py:1264 - Deleting deployment SentimentAnalyzer.\n",
            "\u001b[2m\u001b[36m(ServeController pid=13937)\u001b[0m INFO 2023-06-16 17:17:28,053 controller 13937 deployment_state.py:1563 - Removing 1 replica from deployment 'SentimentAnalyzer'.\n"
          ]
        }
      ]
    },
    {
      "cell_type": "code",
      "source": [
        "ray.shutdown()"
      ],
      "metadata": {
        "id": "p1JVdqfKF0Cp"
      },
      "execution_count": 20,
      "outputs": []
    },
    {
      "cell_type": "markdown",
      "source": [
        "### Gradio\n"
      ],
      "metadata": {
        "id": "TtEslBnoUmGo"
      }
    },
    {
      "cell_type": "code",
      "source": [
        "def sent_per_char(str_dict):\n",
        "    dict_data = eval(str_dict)\n",
        "    resp = {}\n",
        "    for i, line in enumerate(dict_data['lines']):\n",
        "        character = dict_data['char_names'][i]\n",
        "        labels = model(line)\n",
        "        label = labels[0]['label']\n",
        "        if character not in resp:\n",
        "            resp[character] = {'positive': 0, 'neutral': 0, 'negative': 0}\n",
        "        if label not in resp[character]:\n",
        "            resp[character][label] = 0\n",
        "        resp[character][label] += 1\n",
        "\n",
        "    fig, axs = plt.subplots(1, len(resp), figsize=(10, 5))\n",
        "    for i, (p, data) in enumerate(resp.items()):\n",
        "        axs[i].pie(data.values())\n",
        "        axs[i].set_xlabel(p)\n",
        "        axs[i].legend(labels=data.keys(), loc='best')\n",
        "    plt.tight_layout()\n",
        "    return fig"
      ],
      "metadata": {
        "id": "R7P427qRWPfp"
      },
      "execution_count": 3,
      "outputs": []
    },
    {
      "cell_type": "code",
      "source": [
        "test={'lines': ['You are so smart!',\n",
        "                'Cannot say the same about you.',\n",
        "                'That was rude!',\n",
        "                'Whats up guys?'],\n",
        "           'char_names': ['Bob',\n",
        "                          'Dan',\n",
        "                          'Bob',\n",
        "                          'Rose']\n",
        "           }"
      ],
      "metadata": {
        "id": "DreYljx0VdBV"
      },
      "execution_count": 4,
      "outputs": []
    },
    {
      "cell_type": "code",
      "source": [
        "def gradio_sentiment():\n",
        "    return gr.Interface(\n",
        "        fn=sent_per_char,\n",
        "        inputs=[gr.Textbox(label='Dialog format: {\"lines\":[\"...\", ...], \"char_names\": [\"...\", ...]}', value=test)],\n",
        "        outputs=[gr.Plot()],\n",
        "    )"
      ],
      "metadata": {
        "id": "owNRJ0oPWVCI"
      },
      "execution_count": 5,
      "outputs": []
    },
    {
      "cell_type": "code",
      "source": [
        "gradio_sentiment().launch()"
      ],
      "metadata": {
        "colab": {
          "base_uri": "https://localhost:8080/",
          "height": 610
        },
        "id": "G4T7dm08WSBE",
        "outputId": "70ab4114-84ba-47f4-d4aa-007e677c6f1e"
      },
      "execution_count": 7,
      "outputs": [
        {
          "output_type": "stream",
          "name": "stdout",
          "text": [
            "Colab notebook detected. To show errors in colab notebook, set debug=True in launch()\n",
            "Note: opening Chrome Inspector may crash demo inside Colab notebooks.\n",
            "\n",
            "To create a public link, set `share=True` in `launch()`.\n"
          ]
        },
        {
          "output_type": "display_data",
          "data": {
            "text/plain": [
              "<IPython.core.display.Javascript object>"
            ],
            "application/javascript": [
              "(async (port, path, width, height, cache, element) => {\n",
              "                        if (!google.colab.kernel.accessAllowed && !cache) {\n",
              "                            return;\n",
              "                        }\n",
              "                        element.appendChild(document.createTextNode(''));\n",
              "                        const url = await google.colab.kernel.proxyPort(port, {cache});\n",
              "\n",
              "                        const external_link = document.createElement('div');\n",
              "                        external_link.innerHTML = `\n",
              "                            <div style=\"font-family: monospace; margin-bottom: 0.5rem\">\n",
              "                                Running on <a href=${new URL(path, url).toString()} target=\"_blank\">\n",
              "                                    https://localhost:${port}${path}\n",
              "                                </a>\n",
              "                            </div>\n",
              "                        `;\n",
              "                        element.appendChild(external_link);\n",
              "\n",
              "                        const iframe = document.createElement('iframe');\n",
              "                        iframe.src = new URL(path, url).toString();\n",
              "                        iframe.height = height;\n",
              "                        iframe.allow = \"autoplay; camera; microphone; clipboard-read; clipboard-write;\"\n",
              "                        iframe.width = width;\n",
              "                        iframe.style.border = 0;\n",
              "                        element.appendChild(iframe);\n",
              "                    })(7861, \"/\", \"100%\", 500, false, window.element)"
            ]
          },
          "metadata": {}
        },
        {
          "output_type": "execute_result",
          "data": {
            "text/plain": []
          },
          "metadata": {},
          "execution_count": 7
        }
      ]
    },
    {
      "cell_type": "code",
      "source": [
        "ray.init()"
      ],
      "metadata": {
        "colab": {
          "base_uri": "https://localhost:8080/",
          "height": 96
        },
        "id": "R7OY6MxNYSlF",
        "outputId": "0042f11e-eaa9-4a2d-f0a0-08bd22b1eff7"
      },
      "execution_count": 8,
      "outputs": [
        {
          "output_type": "stream",
          "name": "stderr",
          "text": [
            "2023-06-16 18:06:35,448\tINFO worker.py:1627 -- Started a local Ray instance. View the dashboard at \u001b[1m\u001b[32m127.0.0.1:8265 \u001b[39m\u001b[22m\n"
          ]
        },
        {
          "output_type": "execute_result",
          "data": {
            "text/plain": [
              "RayContext(dashboard_url='127.0.0.1:8265', python_version='3.10.12', ray_version='2.5.0', ray_commit='586c376e0769082cb5cfa1333e8264a5fa6b73ec', address_info={'node_ip_address': '172.28.0.12', 'raylet_ip_address': '172.28.0.12', 'redis_address': None, 'object_store_address': '/tmp/ray/session_2023-06-16_18-06-32_222979_27721/sockets/plasma_store', 'raylet_socket_name': '/tmp/ray/session_2023-06-16_18-06-32_222979_27721/sockets/raylet', 'webui_url': '127.0.0.1:8265', 'session_dir': '/tmp/ray/session_2023-06-16_18-06-32_222979_27721', 'metrics_export_port': 59187, 'gcs_address': '172.28.0.12:47629', 'address': '172.28.0.12:47629', 'dashboard_agent_listen_port': 52365, 'node_id': '8f83fdb45128572f8d674d0562283d6598cfc6bc9c8e25de94a6ae8c'})"
            ],
            "text/html": [
              "<div>\n",
              "    <div style=\"margin-left: 50px;display: flex;flex-direction: row;align-items: center\">\n",
              "        <h3 style=\"color: var(--jp-ui-font-color0)\">Ray</h3>\n",
              "        <svg version=\"1.1\" id=\"ray\" width=\"3em\" viewBox=\"0 0 144.5 144.6\" style=\"margin-left: 3em;margin-right: 3em\">\n",
              "            <g id=\"layer-1\">\n",
              "                <path fill=\"#00a2e9\" class=\"st0\" d=\"M97.3,77.2c-3.8-1.1-6.2,0.9-8.3,5.1c-3.5,6.8-9.9,9.9-17.4,9.6S58,88.1,54.8,81.2c-1.4-3-3-4-6.3-4.1\n",
              "                    c-5.6-0.1-9.9,0.1-13.1,6.4c-3.8,7.6-13.6,10.2-21.8,7.6C5.2,88.4-0.4,80.5,0,71.7c0.1-8.4,5.7-15.8,13.8-18.2\n",
              "                    c8.4-2.6,17.5,0.7,22.3,8c1.3,1.9,1.3,5.2,3.6,5.6c3.9,0.6,8,0.2,12,0.2c1.8,0,1.9-1.6,2.4-2.8c3.5-7.8,9.7-11.8,18-11.9\n",
              "                    c8.2-0.1,14.4,3.9,17.8,11.4c1.3,2.8,2.9,3.6,5.7,3.3c1-0.1,2,0.1,3,0c2.8-0.5,6.4,1.7,8.1-2.7s-2.3-5.5-4.1-7.5\n",
              "                    c-5.1-5.7-10.9-10.8-16.1-16.3C84,38,81.9,37.1,78,38.3C66.7,42,56.2,35.7,53,24.1C50.3,14,57.3,2.8,67.7,0.5\n",
              "                    C78.4-2,89,4.7,91.5,15.3c0.1,0.3,0.1,0.5,0.2,0.8c0.7,3.4,0.7,6.9-0.8,9.8c-1.7,3.2-0.8,5,1.5,7.2c6.7,6.5,13.3,13,19.8,19.7\n",
              "                    c1.8,1.8,3,2.1,5.5,1.2c9.1-3.4,17.9-0.6,23.4,7c4.8,6.9,4.6,16.1-0.4,22.9c-5.4,7.2-14.2,9.9-23.1,6.5c-2.3-0.9-3.5-0.6-5.1,1.1\n",
              "                    c-6.7,6.9-13.6,13.7-20.5,20.4c-1.8,1.8-2.5,3.2-1.4,5.9c3.5,8.7,0.3,18.6-7.7,23.6c-7.9,5-18.2,3.8-24.8-2.9\n",
              "                    c-6.4-6.4-7.4-16.2-2.5-24.3c4.9-7.8,14.5-11,23.1-7.8c3,1.1,4.7,0.5,6.9-1.7C91.7,98.4,98,92.3,104.2,86c1.6-1.6,4.1-2.7,2.6-6.2\n",
              "                    c-1.4-3.3-3.8-2.5-6.2-2.6C99.8,77.2,98.9,77.2,97.3,77.2z M72.1,29.7c5.5,0.1,9.9-4.3,10-9.8c0-0.1,0-0.2,0-0.3\n",
              "                    C81.8,14,77,9.8,71.5,10.2c-5,0.3-9,4.2-9.3,9.2c-0.2,5.5,4,10.1,9.5,10.3C71.8,29.7,72,29.7,72.1,29.7z M72.3,62.3\n",
              "                    c-5.4-0.1-9.9,4.2-10.1,9.7c0,0.2,0,0.3,0,0.5c0.2,5.4,4.5,9.7,9.9,10c5.1,0.1,9.9-4.7,10.1-9.8c0.2-5.5-4-10-9.5-10.3\n",
              "                    C72.6,62.3,72.4,62.3,72.3,62.3z M115,72.5c0.1,5.4,4.5,9.7,9.8,9.9c5.6-0.2,10-4.8,10-10.4c-0.2-5.4-4.6-9.7-10-9.7\n",
              "                    c-5.3-0.1-9.8,4.2-9.9,9.5C115,72.1,115,72.3,115,72.5z M19.5,62.3c-5.4,0.1-9.8,4.4-10,9.8c-0.1,5.1,5.2,10.4,10.2,10.3\n",
              "                    c5.6-0.2,10-4.9,9.8-10.5c-0.1-5.4-4.5-9.7-9.9-9.6C19.6,62.3,19.5,62.3,19.5,62.3z M71.8,134.6c5.9,0.2,10.3-3.9,10.4-9.6\n",
              "                    c0.5-5.5-3.6-10.4-9.1-10.8c-5.5-0.5-10.4,3.6-10.8,9.1c0,0.5,0,0.9,0,1.4c-0.2,5.3,4,9.8,9.3,10\n",
              "                    C71.6,134.6,71.7,134.6,71.8,134.6z\"/>\n",
              "            </g>\n",
              "        </svg>\n",
              "        <table>\n",
              "            <tr>\n",
              "                <td style=\"text-align: left\"><b>Python version:</b></td>\n",
              "                <td style=\"text-align: left\"><b>3.10.12</b></td>\n",
              "            </tr>\n",
              "            <tr>\n",
              "                <td style=\"text-align: left\"><b>Ray version:</b></td>\n",
              "                <td style=\"text-align: left\"><b> 2.5.0</b></td>\n",
              "            </tr>\n",
              "            <tr>\n",
              "    <td style=\"text-align: left\"><b>Dashboard:</b></td>\n",
              "    <td style=\"text-align: left\"><b><a href=\"http://127.0.0.1:8265\" target=\"_blank\">http://127.0.0.1:8265</a></b></td>\n",
              "</tr>\n",
              "\n",
              "        </table>\n",
              "    </div>\n",
              "</div>\n"
            ]
          },
          "metadata": {},
          "execution_count": 8
        }
      ]
    },
    {
      "cell_type": "code",
      "source": [
        "serve.run(\n",
        "    GradioServer.options(ray_actor_options={\"num_cpus\": 1}).bind(\n",
        "        gradio_sentiment\n",
        "    )\n",
        ")"
      ],
      "metadata": {
        "colab": {
          "base_uri": "https://localhost:8080/"
        },
        "id": "zZBL4foJWCLW",
        "outputId": "2d2c6188-2f62-4baa-e560-e172a50e353e"
      },
      "execution_count": 9,
      "outputs": [
        {
          "output_type": "stream",
          "name": "stderr",
          "text": [
            "\u001b[2m\u001b[36m(HTTPProxyActor pid=28491)\u001b[0m INFO:     Started server process [28491]\n",
            "\u001b[2m\u001b[36m(ServeController pid=28446)\u001b[0m INFO 2023-06-16 18:06:51,973 controller 28446 deployment_state.py:1298 - Deploying new version of deployment default_GradioIngress.\n",
            "\u001b[2m\u001b[36m(ServeController pid=28446)\u001b[0m INFO 2023-06-16 18:06:51,977 controller 28446 deployment_state.py:1537 - Adding 1 replica to deployment default_GradioIngress.\n",
            "\u001b[2m\u001b[36m(ServeController pid=28446)\u001b[0m WARNING 2023-06-16 18:07:22,281 controller 28446 deployment_state.py:1849 - Deployment \"default_GradioIngress\" has 1 replicas that have taken more than 30s to be scheduled. This may be caused by waiting for the cluster to auto-scale, or waiting for a runtime environment to install. Resources required for each replica: {\"CPU\": 1.0}, resources available: {\"CPU\": 1.0}.\n",
            "\u001b[2m\u001b[36m(ServeReplica:default_GradioIngress pid=28583)\u001b[0m 2023-06-16 18:07:32.382864: W tensorflow/compiler/tf2tensorrt/utils/py_utils.cc:38] TF-TRT Warning: Could not find TensorRT\n"
          ]
        },
        {
          "output_type": "execute_result",
          "data": {
            "text/plain": [
              "RayServeSyncHandle(deployment='default_GradioIngress')"
            ]
          },
          "metadata": {},
          "execution_count": 9
        }
      ]
    },
    {
      "cell_type": "code",
      "source": [
        "ngrok.connect(8265)"
      ],
      "metadata": {
        "colab": {
          "base_uri": "https://localhost:8080/"
        },
        "id": "9R5kxuqIYB_E",
        "outputId": "abae1028-98e0-43e6-a243-2dc8bf4cd95a"
      },
      "execution_count": 16,
      "outputs": [
        {
          "output_type": "stream",
          "name": "stderr",
          "text": [
            "WARNING:pyngrok.process.ngrok:t=2023-06-16T18:09:43+0000 lvl=warn msg=\"ngrok config file found at legacy location, move to XDG location\" xdg_path=/root/.config/ngrok/ngrok.yml legacy_path=/root/.ngrok2/ngrok.yml\n"
          ]
        },
        {
          "output_type": "execute_result",
          "data": {
            "text/plain": [
              "<NgrokTunnel: \"https://c64d-34-125-143-75.ngrok.io\" -> \"http://localhost:8265\">"
            ]
          },
          "metadata": {},
          "execution_count": 16
        }
      ]
    },
    {
      "cell_type": "code",
      "source": [
        "serve.shutdown()"
      ],
      "metadata": {
        "colab": {
          "base_uri": "https://localhost:8080/"
        },
        "id": "vRqMlQWeYHby",
        "outputId": "1f3671eb-d61c-4257-e499-9825484308bc"
      },
      "execution_count": 17,
      "outputs": [
        {
          "output_type": "stream",
          "name": "stderr",
          "text": [
            "\u001b[2m\u001b[36m(ServeController pid=28446)\u001b[0m INFO 2023-06-16 18:10:00,342 controller 28446 deployment_state.py:1264 - Deleting deployment default_GradioIngress.\n",
            "\u001b[2m\u001b[36m(ServeController pid=28446)\u001b[0m INFO 2023-06-16 18:10:00,374 controller 28446 deployment_state.py:1563 - Removing 1 replica from deployment 'default_GradioIngress'.\n"
          ]
        }
      ]
    },
    {
      "cell_type": "code",
      "source": [
        "ray.shutdown()"
      ],
      "metadata": {
        "id": "LcgGxTNMYVu3"
      },
      "execution_count": 18,
      "outputs": []
    }
  ]
}